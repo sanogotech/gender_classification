{
 "cells": [
  {
   "cell_type": "markdown",
   "id": "663c2c8b",
   "metadata": {},
   "source": [
    "## Importation des Librairies necessaires "
   ]
  },
  {
   "cell_type": "code",
   "execution_count": 1,
   "id": "029bb6bd",
   "metadata": {},
   "outputs": [],
   "source": [
    "import numpy as np\n",
    "from sklearn import tree\n",
    "from sklearn.ensemble import RandomForestClassifier\n",
    "from sklearn.svm import SVC\n",
    "from sklearn.linear_model import LogisticRegression\n",
    "from sklearn.metrics import accuracy_score\n",
    "import pickle "
   ]
  },
  {
   "cell_type": "markdown",
   "id": "eb86aa9e",
   "metadata": {},
   "source": [
    "### Visualisation des données "
   ]
  },
  {
   "cell_type": "markdown",
   "id": "572785d2",
   "metadata": {},
   "source": [
    "Le sexe d'un humain est fonction de son poids, sa taille et la taille de ses chaussures. Des données ont été receuillies sur des hommes et femmes afin de mettre en place un modèle de ML permettant de désigner à partir des informations sur le poids, la taille et la taille des chaussures désigner si nous avons un homme ou une femme."
   ]
  },
  {
   "cell_type": "code",
   "execution_count": 2,
   "id": "9cc665a5",
   "metadata": {},
   "outputs": [],
   "source": [
    "# [taille, poids, taille_chaussure]\n",
    "X = [[181, 80, 44], [177, 70, 43], [160, 60, 38], [154, 54, 37], [166, 65, 40],\n",
    "     [190, 90, 47], [175, 64, 39],\n",
    "     [177, 70, 40], [159, 55, 37], [171, 75, 42], [181, 85, 43], [168, 75, 41], [168, 77, 41]]\n",
    "\n",
    "Y = ['male', 'male', 'female', 'female', 'male', 'male', 'female', 'female',\n",
    "     'female', 'male', 'male', 'female', 'female']\n",
    "\n",
    "# X sont les informations et Y les libellés"
   ]
  },
  {
   "cell_type": "code",
   "execution_count": 3,
   "id": "51da8ce5",
   "metadata": {},
   "outputs": [],
   "source": [
    "test_data = [[190, 70, 43],[154, 75, 42],[181,65,40]]\n",
    "test_labels = ['male','male','male']"
   ]
  },
  {
   "cell_type": "markdown",
   "id": "8cf4d117",
   "metadata": {},
   "source": [
    "- X sont les informations qui nous permettront de construire le modèle\n",
    "- test_data les données qui nous permettront d'évoluer le modèle construit"
   ]
  },
  {
   "cell_type": "markdown",
   "id": "5f90e118",
   "metadata": {},
   "source": [
    "## Construction des modèles"
   ]
  },
  {
   "cell_type": "code",
   "execution_count": 12,
   "id": "22859d12",
   "metadata": {},
   "outputs": [
    {
     "name": "stdout",
     "output_type": "stream",
     "text": [
      "['male' 'male' 'male']\n",
      "['male' 'female' 'male']\n",
      "['female' 'female' 'female']\n",
      "['male' 'male' 'female']\n"
     ]
    }
   ],
   "source": [
    "#DecisionTreeClassifier\n",
    "dtc_clf = tree.DecisionTreeClassifier()\n",
    "dtc_clf = dtc_clf.fit(X,Y)\n",
    "#Sauvegarde du modèle sur disk\n",
    "filename_dtc = 'dtc_clf.sav'  \n",
    "pickle.dump(dtc_clf, open(filename_dtc , 'wb'))  # le modèle est enregistré dans le dossier courant, ici c'est le dossier où se trouve le code \n",
    "\n",
    "\n",
    " \n",
    "#Chargement du modèle sur le disk\n",
    "loaded_model_dtc = pickle.load(open(filename_dtc, 'rb'))\n",
    "dtc_prediction = loaded_model_dtc.predict(test_data)\n",
    "print(dtc_prediction)\n",
    "\n",
    "#RandomForestClassifier\n",
    "rfc_clf = RandomForestClassifier()\n",
    "rfc_clf.fit(X,Y)\n",
    "#Sauvegarde du modèle sur disk\n",
    "filename_rfc = 'rfc_clf.sav'  \n",
    "pickle.dump(rfc_clf, open(filename_rfc, 'wb'))\n",
    "\n",
    "\n",
    " \n",
    "#Chargement du modèle sur le disk\n",
    "loaded_model_rfc = pickle.load(open(filename_rfc, 'rb'))\n",
    "\n",
    "rfc_prediction = loaded_model_rfc.predict(test_data)\n",
    "print(rfc_prediction)\n",
    "\n",
    "#Support Vector Classifier\n",
    "svc_clf = SVC()\n",
    "svc_clf.fit(X,Y)\n",
    "#Sauvegarde du modèle sur disk\n",
    "filename_svc= 'svc_clf.sav'  \n",
    "pickle.dump(svc_clf, open(filename_svc, 'wb'))\n",
    "\n",
    "\n",
    " \n",
    "#Chargement du modèle sur le disk\n",
    "loaded_model_svc = pickle.load(open(filename_svc, 'rb'))\n",
    "s_prediction = loaded_model_svc.predict(test_data)\n",
    "print(s_prediction)\n",
    "\n",
    "\n",
    "#LogisticRegression\n",
    "log_clf = LogisticRegression()\n",
    "log_clf.fit(X,Y)\n",
    "#Sauvegarde du modèle sur disk\n",
    "filename_log= 'log_clf.sav'  \n",
    "pickle.dump(log_clf, open(filename_log, 'wb'))\n",
    "\n",
    "\n",
    " \n",
    "#Chargement du modèle sur le disk\n",
    "loaded_model_log = pickle.load(open(filename_log, 'rb'))\n",
    "l_prediction = loaded_model_log.predict(test_data)\n",
    "print(l_prediction)"
   ]
  },
  {
   "cell_type": "markdown",
   "id": "981ea204",
   "metadata": {},
   "source": [
    "Nous allons évaluer le modèle en évaluant l'accuracy et choisir le modèle qui a le plus grand accuracy"
   ]
  },
  {
   "cell_type": "code",
   "execution_count": 13,
   "id": "7f2240c9",
   "metadata": {},
   "outputs": [
    {
     "name": "stdout",
     "output_type": "stream",
     "text": [
      "Decision Tree is the best classifier for this problem\n"
     ]
    }
   ],
   "source": [
    "#accuracy scores\n",
    "dtc_tree_acc = accuracy_score(dtc_prediction,test_labels)\n",
    "rfc_acc = accuracy_score(rfc_prediction,test_labels)\n",
    "l_acc = accuracy_score(l_prediction,test_labels)\n",
    "s_acc = accuracy_score(s_prediction,test_labels)\n",
    "\n",
    "classifiers = ['Decision Tree', 'Random Forest', 'Logistic Regression' , 'SVC']\n",
    "accuracy = np.array([dtc_tree_acc, rfc_acc, l_acc, s_acc])\n",
    "max_acc = np.argmax(accuracy)\n",
    "print(classifiers[max_acc] + ' is the best classifier for this problem')"
   ]
  },
  {
   "cell_type": "markdown",
   "id": "809bcb85",
   "metadata": {},
   "source": [
    "A l'aide de la librairie pickle nous pouvons sauvegarder notre modèle"
   ]
  }
 ],
 "metadata": {
  "kernelspec": {
   "display_name": "Python 3 (ipykernel)",
   "language": "python",
   "name": "python3"
  },
  "language_info": {
   "codemirror_mode": {
    "name": "ipython",
    "version": 3
   },
   "file_extension": ".py",
   "mimetype": "text/x-python",
   "name": "python",
   "nbconvert_exporter": "python",
   "pygments_lexer": "ipython3",
   "version": "3.9.12"
  }
 },
 "nbformat": 4,
 "nbformat_minor": 5
}
